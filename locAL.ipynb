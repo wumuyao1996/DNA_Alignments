{
 "cells": [
  {
   "cell_type": "markdown",
   "metadata": {},
   "source": [
    "Question 1:"
   ]
  },
  {
   "cell_type": "code",
   "execution_count": 1,
   "metadata": {
    "collapsed": false
   },
   "outputs": [
    {
     "name": "stdout",
     "output_type": "stream",
     "text": [
      "Number of arguments: 9 arguments.\n",
      "Argument List: ['locAL', 'p1seqs.txt', '-m', '1', '-s', '-10', '-d', '-1', '-a']\n",
      "file: p1seqs.txt\n",
      "matchScore: 1\n",
      "mismatchScore: -10\n",
      "indel: -1\n",
      "findA: True\n"
     ]
    }
   ],
   "source": [
    "\n",
    "\n",
    "#python locAL.py <seq file> -m <match> -s <mismatch> -d <indel> -a\n",
    "#python locAL.py testseqs.txt -m +1 -s -1 -d -1 -a\n",
    "\n",
    "import sys, getopt, numpy\n",
    "\n",
    "arguments = [\"locAL\", \"p1seqs.txt\", \"-m\", \"1\", \"-s\",\"-10\", \"-d\", \"-1\", \"-a\"]\n",
    "\n",
    "\n",
    "file = arguments[1]\n",
    "matchScore = int(arguments[3])\n",
    "mismatchScore =  int(arguments[5])\n",
    "indel = int(arguments[7])\n",
    "findA = False\n",
    "if '-a' in arguments: \n",
    "\tfindA = True\n",
    "\t#print('found -a')\n",
    "\n",
    "print ('Number of arguments:', len(arguments), 'arguments.')\n",
    "print ('Argument List:', str(arguments))\n",
    "print ('file:', str(file))\n",
    "print ('matchScore:', str(matchScore))\n",
    "print ('mismatchScore:', str(mismatchScore))\n",
    "print ('indel:', str(indel))\n",
    "print ('findA:', str(findA))"
   ]
  },
  {
   "cell_type": "code",
   "execution_count": 20,
   "metadata": {
    "collapsed": false
   },
   "outputs": [],
   "source": [
    "data = open(file, \"r\")\n",
    "\n",
    "\n",
    "check = False\n",
    "counter = 0\n",
    "seq1 = []\n",
    "seq2 = []\n",
    "for line in data:\n",
    "\tif 'seq' in line:\n",
    "\t\tcheck = True\n",
    "\telif check == True and counter == 0:\n",
    "\t\tfor char in line:\n",
    "\t\t\tif char != '\\n':\n",
    "\t\t\t\tseq1.append(char)\n",
    "\n",
    "\t\tcounter +=1\n",
    "\telif check == True and counter == 1:\n",
    "\t\tfor char in line:\n",
    "\t\t\tif char != '\\n':\n",
    "\t\t\t\tseq2.append(char)\n"
   ]
  },
  {
   "cell_type": "code",
   "execution_count": null,
   "metadata": {
    "collapsed": false
   },
   "outputs": [],
   "source": []
  },
  {
   "cell_type": "code",
   "execution_count": 21,
   "metadata": {
    "collapsed": false,
    "scrolled": false
   },
   "outputs": [
    {
     "name": "stdout",
     "output_type": "stream",
     "text": [
      "Vertical\n",
      "[[    0.   -inf   -inf ...,   -inf   -inf   -inf]\n",
      " [   -1.     0.     0. ...,     0.     0.     0.]\n",
      " [   -2.     0.     0. ...,     0.     0.     0.]\n",
      " ..., \n",
      " [ -998.     0.     0. ...,     0.     0.     0.]\n",
      " [ -999.     0.     0. ...,     0.     0.     0.]\n",
      " [-1000.     0.     0. ...,     0.     0.     0.]]\n",
      "Horizontal\n",
      "[[    0.    -1.    -2. ...,  -998.  -999. -1000.]\n",
      " [  -inf     0.     0. ...,     0.     0.     0.]\n",
      " [  -inf     0.     0. ...,     0.     0.     0.]\n",
      " ..., \n",
      " [  -inf     0.     0. ...,     0.     0.     0.]\n",
      " [  -inf     0.     0. ...,     0.     0.     0.]\n",
      " [  -inf     0.     0. ...,     0.     0.     0.]]\n",
      "Diagonal\n",
      "[[    0.    -1.    -2. ...,  -998.  -999. -1000.]\n",
      " [   -1.     0.     0. ...,     0.     0.     0.]\n",
      " [   -2.     0.     0. ...,     0.     0.     0.]\n",
      " ..., \n",
      " [ -998.     0.     0. ...,     0.     0.     0.]\n",
      " [ -999.     0.     0. ...,     0.     0.     0.]\n",
      " [-1000.     0.     0. ...,     0.     0.     0.]]\n",
      "Score\n",
      "[[  0.   0.   0. ...,   0.   0.   0.]\n",
      " [  0.  nan  nan ...,  nan  nan  nan]\n",
      " [  0.  nan  nan ...,  nan  nan  nan]\n",
      " ..., \n",
      " [  0.  nan  nan ...,  nan  nan  nan]\n",
      " [  0.  nan  nan ...,  nan  nan  nan]\n",
      " [  0.  nan  nan ...,  nan  nan  nan]]\n",
      "Direction\n",
      "[[  0.   2.   2. ...,   2.   2.   2.]\n",
      " [  1.  nan  nan ...,  nan  nan  nan]\n",
      " [  1.  nan  nan ...,  nan  nan  nan]\n",
      " ..., \n",
      " [  1.  nan  nan ...,  nan  nan  nan]\n",
      " [  1.  nan  nan ...,  nan  nan  nan]\n",
      " [  1.  nan  nan ...,  nan  nan  nan]]\n"
     ]
    }
   ],
   "source": [
    "#to find the max score\n",
    "\n",
    "#initialize all them\n",
    "\n",
    "#vert = insertion\n",
    "vert = numpy.empty((len(seq2)+1, len(seq1)+1))\n",
    "vert[:] = 0\n",
    "\n",
    "d = 1\n",
    "while d < len(vert):\n",
    "\tvert[d][0] = indel*d\n",
    "\td+=1\n",
    "\n",
    "d=1\n",
    "while d < len(vert[0]):\n",
    "\tvert[0][d] = -float(\"inf\")\n",
    "\td+=1\n",
    "\n",
    "vert [0][0] = 0\n",
    "\n",
    "\n",
    "#hori = deletion\n",
    "hori = numpy.empty((len(seq2)+1, len(seq1)+1))\n",
    "hori[:] = 0\n",
    "d=1\n",
    "while d < len(hori[0]):\n",
    "\thori[0][d] = indel*d\n",
    "\td+=1\n",
    "    \n",
    "d=1\n",
    "while d < len(hori):\n",
    "\thori[d][0] = -float(\"inf\")\n",
    "\td+=1\n",
    "hori[0][0]=0\n",
    "\n",
    "#diag = match or mismatch\n",
    "diag = numpy.empty((len(seq2)+1, len(seq1)+1))\n",
    "diag[:] = 0\n",
    "d=1\n",
    "while d < len(diag[0]):\n",
    "\tdiag[0][d] = indel*d\n",
    "\td+=1\n",
    "d=1\n",
    "while d < len(diag):\n",
    "\tdiag[d][0] = indel*d\n",
    "\td+=1\n",
    "diag [0][0] = 0\n",
    "\n",
    "#score for scorekeeping\n",
    "score = numpy.empty((len(seq2)+1, len(seq1)+1))\n",
    "score[:] = numpy.NAN\n",
    "\n",
    "d=1\n",
    "while d < len(score[0]):\n",
    "\tscore[0][d] = 0\n",
    "\td+=1\n",
    "d=1\n",
    "while d < len(score):\n",
    "\tscore[d][0] = 0\n",
    "\td+=1\n",
    "score [0][0] = 0\n",
    "\n",
    "#1 = Vert, 2 = Horiz, 3 = diag\n",
    "\n",
    "dire = numpy.empty((len(seq2)+1, len(seq1)+1))\n",
    "d=1\n",
    "while d < len(dire[0]):\n",
    "\tdire[0][d] = 2\n",
    "\td+=1\n",
    "d=1\n",
    "while d < len(dire):\n",
    "\tdire[d][0] = 1\n",
    "\td+=1\n",
    "    \n",
    "print (\"Vertical\")\n",
    "print (vert)\n",
    "\n",
    "print (\"Horizontal\")\n",
    "print (hori)\n",
    "\n",
    "print (\"Diagonal\")\n",
    "print (diag)\n",
    "\n",
    "print (\"Score\")\n",
    "print (score)\n",
    "\n",
    "print (\"Direction\")\n",
    "print (dire)\n",
    "\n",
    "\n",
    "#run the script until we good"
   ]
  },
  {
   "cell_type": "code",
   "execution_count": 22,
   "metadata": {
    "collapsed": false
   },
   "outputs": [
    {
     "data": {
      "text/plain": [
       "True"
      ]
     },
     "execution_count": 22,
     "metadata": {},
     "output_type": "execute_result"
    }
   ],
   "source": [
    "(1==1)==1"
   ]
  },
  {
   "cell_type": "code",
   "execution_count": 23,
   "metadata": {
    "collapsed": false,
    "scrolled": true
   },
   "outputs": [
    {
     "name": "stdout",
     "output_type": "stream",
     "text": [
      "vertical: \n",
      "[[  0.00000000e+00             -inf             -inf ...,             -inf\n",
      "              -inf             -inf]\n",
      " [ -1.00000000e+00  -2.00000000e+00  -3.00000000e+00 ...,  -9.99000000e+02\n",
      "   -1.00000000e+03  -1.00100000e+03]\n",
      " [ -2.00000000e+00   0.00000000e+00  -1.00000000e+00 ...,  -1.00000000e+00\n",
      "   -1.00000000e+00  -1.00000000e+00]\n",
      " ..., \n",
      " [ -9.98000000e+02  -1.00000000e+00   0.00000000e+00 ...,   1.08000000e+02\n",
      "    1.10000000e+02   1.09000000e+02]\n",
      " [ -9.99000000e+02  -1.00000000e+00  -1.00000000e+00 ...,   1.07000000e+02\n",
      "    1.09000000e+02   1.11000000e+02]\n",
      " [ -1.00000000e+03  -1.00000000e+00  -1.00000000e+00 ...,   1.09000000e+02\n",
      "    1.08000000e+02   1.10000000e+02]]\n",
      "horizontal: \n",
      "[[  0.00000000e+00  -1.00000000e+00  -2.00000000e+00 ...,  -9.98000000e+02\n",
      "   -9.99000000e+02  -1.00000000e+03]\n",
      " [            -inf  -2.00000000e+00   0.00000000e+00 ...,  -1.00000000e+00\n",
      "   -1.00000000e+00  -1.00000000e+00]\n",
      " [            -inf  -3.00000000e+00  -1.00000000e+00 ...,   0.00000000e+00\n",
      "   -1.00000000e+00   0.00000000e+00]\n",
      " ..., \n",
      " [            -inf  -9.99000000e+02  -1.00000000e+00 ...,   1.08000000e+02\n",
      "    1.07000000e+02   1.09000000e+02]\n",
      " [            -inf  -1.00000000e+03  -1.00000000e+00 ...,   1.07000000e+02\n",
      "    1.09000000e+02   1.08000000e+02]\n",
      " [            -inf  -1.00100000e+03  -1.00000000e+00 ...,   1.09000000e+02\n",
      "    1.08000000e+02   1.07000000e+02]]\n",
      "diagonal: \n",
      "[[    0.    -1.    -2. ...,  -998.  -999. -1000.]\n",
      " [   -1.     1.     0. ...,     0.     0.     0.]\n",
      " [   -2.     0.     2. ...,     0.     1.     0.]\n",
      " ..., \n",
      " [ -998.     0.     0. ...,   108.   110.   112.]\n",
      " [ -999.     0.     0. ...,   110.   109.   111.]\n",
      " [-1000.     0.     0. ...,   109.   108.   110.]]\n",
      "Directional: \n",
      "[[ 0.  2.  2. ...,  2.  2.  2.]\n",
      " [ 1.  3.  2. ...,  0.  0.  0.]\n",
      " [ 1.  1.  3. ...,  2.  3.  2.]\n",
      " ..., \n",
      " [ 1.  0.  1. ...,  2.  1.  3.]\n",
      " [ 1.  0.  0. ...,  3.  2.  1.]\n",
      " [ 1.  0.  0. ...,  2.  2.  3.]]\n",
      "best:  119.0\n",
      "(986, 993)\n",
      "stopped at:  (17, 32)\n",
      "Best Score:  119.0\n",
      "Length:  1247\n",
      "CCTA-AAACCACTCC----GCAGAA--AAAG--AATA--AG--GCCAAAACACGACTAAAATCGAAAGAC-ATGACAAGTAAACGAGAAAAGAAA-A-ATA-AA-CGACATACACACTTGTAGGA--A-A--A-ATAA-GAAA-A-AGGGGGAGACGAAGCAAAGA-AAGGGCAGCTAACCCT-CA-A---GGA-AGAACCAGACA-GAATAAGA--A-AA---ACCCGAAA-GCCACC-AAA-TGAAA-G-GAC-AATAACACCTAA-GAGCAA--AAT--CAATAA--A--A-CACCGATCCTC-----C---GAGGAT-AACCA-AGA-GAGACCTAAGAACGAC-A--AG-AAACCAATG--A--A-A-GA-AA--AAG---AA-A--ATGGA-CATCAGAACGA-CTTAGAA-TGCTGGGAA-AA-AGAAAAATT------ATAAACGAA-G-G-A-TG-G---G--CATAAATTG-G--AC-GAAG-C-C-A-AGAGATAG-GC-CGA--G--ATAAAACGGAGAACAATAAG--GGAGAC-C--AT-G-GAGAGC--AAAC--CAACCGCAA-CAAA--TAA-A-GGGGGGGACAAA-AACAAGACCAAC--CC-AAA-C-TGT-CA-G----A-CA-G-GA-A-GAGC-AATAAC--CAAGACA-GAA-GAA-G-AAACAGGA--GACAAACA-AC--AT--AA-TA--TA-AGA-GCA-CCTAGCTAACAAAAAAGA---CCAGCAAACGGATTAAGA-AGAT--AAAGAAA----AC---G--T----AA-AGAA-C-A-GTC-AAG---GAACAAGCGA----TAATAA-ATG-CAGG-G-AAAAAATGG-G--GA-CAG-ACGAAG--GAAACAACCA-G-AAATAATCTA-ACGCATCGCAGAAGATGACACTGCGA--GAA-AATACGAGCCGT-ATACGACAC-A-AAAC--C--G--GGAA-TAA-A-GA-AA---AAAACCATACC-CAA-AA-AGA-ACA-AC-GCGA-AAGATGAAACGCTCC--C-AAC--TC-G----G-A---TGAG-CAAAGCCGCCAG--GCCAAAA-AAGAGAACCA--GAGC-AG-AGCGA--AGCTATGG-GT-A--GAAA-AC---ACCCTAAGCGCGGGTAGTAGA-GACGAAAA-A-TAA-AAAC-AGGC-TGAC-C-CGAACATAAGAGCCCACACAAGTAGAAGAACGGAAAGAAAACGAAAAGA\n",
      "CC-AGAAACCA-TCCTAAA--AGAAGGAAAGCAAATAGGAGAA--CAAAACA--A-T--AATC-AAAG-CGAT----A-TAAA-G-G---AGAAACATA-ACAACCG-C-TACAC-C----A--ATCACACCACA-AAGGAAAGATA-----AG-C---GCAAAGAG-A----AG-T-ACCCTGCATACCT--AC--AACCA-A-AT-AA-AAGAGGAGAACTGA---GAAACGCCACCAAAAC--AAACGTGACG-AT-A-A-CTAATGA--AACGAATGA-AA-AAGGAGGAT-A--GA-CCTCAAATTCAAAGA-GATGAA-CAT-GAC-AG--CTAA-AA-GACAACGAGCAAA--AATGCTAGGAGAC-ATAACCAAGCTAAAGACCA-GGACC--C--AACGACC---GAAC-GC----AAGAAT-G-AAAATTAGCCCCA-AAA--AACGCGCAC-GAGAAAGAAC-TAAA--GAGCCACA-AAGACACAATAGA-A-AGTGCTCGACGGACA-AAAA---A-AA-AA-AAGAA-GAGACACAAATAGA-A-A-CAAAAACAA-AA--G-AAGCAAACG-AATAT------GACAAAG-A-AA-ACCAACTACCAAAAGCA-GTACATGACACATCATGC-ACAC-AGCGAA-AACAACAA-A-ATGAAC-AACGAAAACA--ACC-A-AAA-AGACGAATCGAAC-AGG-AGAGAGG-ATCC---C---CAAAAAAGAGGGCC--C-AAC----TAAGACA-ATGCAAAGAAACGCGACAAAGCCTCGCCAACAGAATCAAC--CAAAGCATGAAC-AGC-ACTTTTAA-AACATGT--GGCGC-------GGCGTCGAGCAGTACG--GTT----CAA--ATGCAAA-AAT-TACA---A----A-AA-A-GACA-TGC-ACTGAAC----C---CCGTAA-A-GA-ACGAGAAACTTCAAGAAGGAAG-AAGAC-ATAAGCCAAAA--A-ACCA-AATAATAGACACAG-CT-CGAG-A-A--AAA-GC-CCAACAAACGA-CAGAAAAGAAGGG-GAGT--AAG--G--AGAAG-CAAAAC---AGAA-CAGGG-GCGAGAA-CGACT-GC---GGAGTAATCGAAAGACATGA--C-AA------GTA--A-ACGA-GAAAAGATTAATAAACGA--CAT-ACACA--AAC--AA-A----A-ACAA-TAG-A-AAC-GAAA-AAAA--AAAA-A\n"
     ]
    }
   ],
   "source": [
    "\n",
    "# here we going to loop through the whole thing and go from top left to bottom right\n",
    "\n",
    "\n",
    "#let's make a variable to keep track of the biggest score value:\n",
    "maxScore = 0\n",
    "bestLoc = (0,0)\n",
    "# we want to iterate 1-10 in the 3 matrices. This is the nested for loop\n",
    "i = 1\n",
    "while i < len(diag):\n",
    "    j=1\n",
    "    while j < len(diag[i]):\n",
    "        #print ('current i and j: ', i , ' ', j)\n",
    "        #we gotta manipulate each matrix we're working with\n",
    "        \n",
    "        #Vertical\n",
    "        a = vert[i-1][j]\n",
    "        b = diag[i-1][j]\n",
    "        \n",
    "        if a>=b:\n",
    "            vert[i][j] = a + indel\n",
    "        elif b>=a:\n",
    "            vert[i][j] = b + indel\n",
    "        \n",
    "        \n",
    "        #Horizontal\n",
    "        a = hori[i][j-1]\n",
    "        b = diag[i][j-1]\n",
    "        \n",
    "        if a>=b:\n",
    "            hori[i][j] = a + indel\n",
    "        elif b>=a:\n",
    "            hori[i][j] = b + indel\n",
    "\n",
    "        #diag\n",
    "        \n",
    "        \n",
    "        a = vert[i][j]\n",
    "        b = hori[i][j]\n",
    "        \n",
    "        #print((seq1[j-1],seq2[i-1]))\n",
    "        \n",
    "        if(int(seq1[j-1]==seq2[i-1]) ==0):\n",
    "            cScore = mismatchScore\n",
    "        else:\n",
    "            cScore = matchScore\n",
    "\n",
    "        c = diag[i-1][j-1] + cScore\n",
    "        \n",
    "        \n",
    "        if a>=b and a>=c:\n",
    "            dire[i][j] = \"1\"\n",
    "            diag[i][j]=a\n",
    "        if b>=a and b>=c:\n",
    "            dire[i][j] = \"2\"\n",
    "            diag[i][j]=b\n",
    "        if c>=a and c>=b:\n",
    "            dire[i][j] = \"3\"\n",
    "            diag[i][j]=c \n",
    "        if diag[i][j]<0:\n",
    "            dire[i][j] = 0\n",
    "            diag[i][j] =0\n",
    "        \n",
    "        if(diag[i][j] >= maxScore):\n",
    "            maxScore = diag[i][j]\n",
    "            bestLoc = (i,j)\n",
    "            \n",
    "        j+=1\n",
    "\n",
    "    i+=1\n",
    "\n",
    "print('vertical: ')\n",
    "print(vert)\n",
    "print('horizontal: ')\n",
    "print(hori)\n",
    "print('diagonal: ')\n",
    "print(diag)\n",
    "\n",
    "print('Directional: ')\n",
    "print(dire)\n",
    "\n",
    "\n",
    "print('best: ', maxScore)\n",
    "print(bestLoc)\n",
    "\n",
    "\n",
    "# run this if -a is on\n",
    "#reset directional borders to zero:\n",
    "d=1\n",
    "while d < len(dire[0]):\n",
    "\tdire[0][d] = 0\n",
    "\td+=1\n",
    "d=1\n",
    "while d < len(dire):\n",
    "\tdire[d][0] = 0\n",
    "\td+=1\n",
    "\n",
    "\n",
    "# let's write a function to find the local alignment\n",
    "\n",
    "\n",
    "ali1 = \"\" \n",
    "#print(seq1)\n",
    "#print(seq1[bestLoc[1]-1])\n",
    "\n",
    "#remember seq2 is the y value but is presented first in the coordinates\n",
    "ali2 = \"\"\n",
    "#print(seq2)\n",
    "#print(seq2[bestLoc[0]-1])\n",
    "\n",
    "\n",
    "\n",
    "\n",
    "k = 0\n",
    "current = bestLoc\n",
    "\n",
    "while k == 0:\n",
    "    #print (\"currentLoc: \", bestLoc, \" currentDire \",dire[bestLoc])\n",
    "    \n",
    "    #on zero we stop\n",
    "    \n",
    "    if dire[bestLoc] == 0:\n",
    "        print(\"stopped at: \", bestLoc)\n",
    "        k=1\n",
    "    #on 1 we go up. so i changes but j stays the same\n",
    "    elif dire[bestLoc] == 1:\n",
    "        bestLoc = (bestLoc[0]-1, bestLoc[1])\n",
    "        ali1 = ali1 + \"-\"\n",
    "        ali2 = ali2 + str(seq2[bestLoc[0]])\n",
    "    #on 2 we go left so j changes but i stays constant\n",
    "    elif dire[bestLoc] == 2:\n",
    "        bestLoc = (bestLoc[0], bestLoc[1]-1)\n",
    "        ali2 = ali2 + \"-\"\n",
    "        ali1 = ali1 = ali1 + str(seq1[bestLoc[1]])\n",
    "    #on 3 both change, yay!\n",
    "    elif dire[bestLoc] == 3:\n",
    "        bestLoc = (bestLoc[0]-1, bestLoc[1]-1)\n",
    "        ali1 = ali1 + str(seq1[bestLoc[1]])\n",
    "        ali2 = ali2 + str(seq2[bestLoc[0]])\n",
    "\n",
    "\n",
    "print('Best Score: ', maxScore)\n",
    "print ('Length: ', len(ali1))\n",
    "print (ali1[::-1])\n",
    "print (ali2[::-1])\n",
    "\n"
   ]
  },
  {
   "cell_type": "code",
   "execution_count": null,
   "metadata": {
    "collapsed": true
   },
   "outputs": [],
   "source": []
  },
  {
   "cell_type": "markdown",
   "metadata": {
    "collapsed": true
   },
   "source": [
    "Question 2\n"
   ]
  },
  {
   "cell_type": "code",
   "execution_count": 2,
   "metadata": {
    "collapsed": false
   },
   "outputs": [
    {
     "name": "stdout",
     "output_type": "stream",
     "text": [
      "done\n"
     ]
    }
   ],
   "source": [
    "#Let's rewrite the above program into a function so we can input our randomly generated sequences\n",
    "print (\"done\")\n",
    "\n",
    "def getLocAL(seq1, seq2, matchS, mismatchS, indel):\n",
    "    matchScore = matchS\n",
    "    mismatchScore =  mismatchS\n",
    "    indel = int(indel)\n",
    "    \n",
    "    \n",
    "    vert = numpy.empty((len(seq2)+1, len(seq1)+1))\n",
    "    vert[:] = 0\n",
    "\n",
    "    d = 1\n",
    "    while d < len(vert):\n",
    "        vert[d][0] = indel*d\n",
    "        d+=1\n",
    "\n",
    "    d=1\n",
    "    while d < len(vert[0]):\n",
    "        vert[0][d] = -float(\"inf\")\n",
    "        d+=1\n",
    "\n",
    "    vert [0][0] = 0\n",
    "\n",
    "\n",
    "    #hori = deletion\n",
    "    hori = numpy.empty((len(seq2)+1, len(seq1)+1))\n",
    "    hori[:] = 0\n",
    "    d=1\n",
    "    while d < len(hori[0]):\n",
    "        hori[0][d] = indel*d\n",
    "        d+=1\n",
    "\n",
    "    d=1\n",
    "    while d < len(hori):\n",
    "        hori[d][0] = -float(\"inf\")\n",
    "        d+=1\n",
    "    hori[0][0]=0\n",
    "\n",
    "    #diag = match or mismatch\n",
    "    diag = numpy.empty((len(seq2)+1, len(seq1)+1))\n",
    "    diag[:] = 0\n",
    "    d=1\n",
    "    while d < len(diag[0]):\n",
    "        diag[0][d] = indel*d\n",
    "        d+=1\n",
    "    d=1\n",
    "    while d < len(diag):\n",
    "        diag[d][0] = indel*d\n",
    "        d+=1\n",
    "    diag [0][0] = 0\n",
    "\n",
    "    #score for scorekeeping\n",
    "    score = numpy.empty((len(seq2)+1, len(seq1)+1))\n",
    "    score[:] = numpy.NAN\n",
    "\n",
    "    d=1\n",
    "    while d < len(score[0]):\n",
    "        score[0][d] = 0\n",
    "        d+=1\n",
    "    d=1\n",
    "    while d < len(score):\n",
    "        score[d][0] = 0\n",
    "        d+=1\n",
    "    score [0][0] = 0\n",
    "\n",
    "    #1 = Vert, 2 = Horiz, 3 = diag\n",
    "\n",
    "    dire = numpy.empty((len(seq2)+1, len(seq1)+1))\n",
    "    d=1\n",
    "    while d < len(dire[0]):\n",
    "        dire[0][d] = 2\n",
    "        d+=1\n",
    "    d=1\n",
    "    while d < len(dire):\n",
    "        dire[d][0] = 1\n",
    "        d+=1\n",
    "    \n",
    "    # here we going to loop through the whole thing and go from top left to bottom right\n",
    "\n",
    "\n",
    "    #let's make a variable to keep track of the biggest score value:\n",
    "    maxScore = 0\n",
    "    bestLoc = (0,0)\n",
    "    # we want to iterate 1-10 in the 3 matrices. This is the nested for loop\n",
    "    i = 1\n",
    "    while i < len(diag):\n",
    "        j=1\n",
    "        while j < len(diag[i]):\n",
    "            #print ('current i and j: ', i , ' ', j)\n",
    "            #we gotta manipulate each matrix we're working with\n",
    "\n",
    "            #Vertical\n",
    "            a = vert[i-1][j]\n",
    "            b = diag[i-1][j]\n",
    "\n",
    "            if a>=b:\n",
    "                vert[i][j] = a + indel\n",
    "            elif b>=a:\n",
    "                vert[i][j] = b + indel\n",
    "\n",
    "\n",
    "            #Horizontal\n",
    "            a = hori[i][j-1]\n",
    "            b = diag[i][j-1]\n",
    "\n",
    "            if a>=b:\n",
    "                hori[i][j] = a + indel\n",
    "            elif b>=a:\n",
    "                hori[i][j] = b + indel\n",
    "\n",
    "            #diag\n",
    "\n",
    "\n",
    "            a = vert[i][j]\n",
    "            b = hori[i][j]\n",
    "\n",
    "            #print((seq1[j-1],seq2[i-1]))\n",
    "\n",
    "            if(int(seq1[j-1]==seq2[i-1]) ==0):\n",
    "                cScore = mismatchScore\n",
    "            else:\n",
    "                cScore = matchScore\n",
    "\n",
    "            c = diag[i-1][j-1] + cScore\n",
    "\n",
    "\n",
    "            if a>=b and a>=c:\n",
    "                dire[i][j] = \"1\"\n",
    "                diag[i][j]=a\n",
    "            if b>=a and b>=c:\n",
    "                dire[i][j] = \"2\"\n",
    "                diag[i][j]=b\n",
    "            if c>=a and c>=b:\n",
    "                dire[i][j] = \"3\"\n",
    "                diag[i][j]=c \n",
    "            if diag[i][j]<0:\n",
    "                dire[i][j] = 0\n",
    "                diag[i][j] = 0\n",
    "\n",
    "            if(diag[i][j] >= maxScore):\n",
    "                maxScore = diag[i][j]\n",
    "                bestLoc = (i,j)\n",
    "\n",
    "            j+=1\n",
    "\n",
    "        i+=1\n",
    "\n",
    "\n",
    "\n",
    "\n",
    "    # run this if -a is on\n",
    "    #reset directional borders to zero:\n",
    "    d=1\n",
    "    while d < len(dire[0]):\n",
    "        dire[0][d] = 0\n",
    "        d+=1\n",
    "    d=1\n",
    "    while d < len(dire):\n",
    "        dire[d][0] = 0\n",
    "        d+=1\n",
    "\n",
    "\n",
    "    # let's write a function to find the local alignment\n",
    "\n",
    "\n",
    "    ali1 = \"\" \n",
    "    #print(seq1)\n",
    "    #print(seq1[bestLoc[1]-1])\n",
    "\n",
    "    #remember seq2 is the y value but is presented first in the coordinates\n",
    "    ali2 = \"\"\n",
    "    #print(seq2)\n",
    "    #print(seq2[bestLoc[0]-1])\n",
    "\n",
    "\n",
    "\n",
    "\n",
    "    k = 0\n",
    "    current = bestLoc\n",
    "    while k == 0:\n",
    "\n",
    "        #on zero we stop\n",
    "        if dire[bestLoc] == 0:\n",
    "            k=1\n",
    "        #on 1 we go up. so i changes but j stays the same\n",
    "        elif dire[bestLoc] == 1:\n",
    "            bestLoc = (bestLoc[0]-1, bestLoc[1])\n",
    "            ali1 = ali1 + \"-\"\n",
    "            ali2 = ali2 + str(seq2[bestLoc[0]])\n",
    "        #on 2 we go left so j changes but i stays constant\n",
    "        elif dire[bestLoc] == 2:\n",
    "            bestLoc = (bestLoc[0], bestLoc[1]-1)\n",
    "            ali2 = ali2 + \"-\"\n",
    "            ali1 = ali1 = ali1 + str(seq1[bestLoc[1]])\n",
    "        #on 3 both change, yay!\n",
    "        elif dire[bestLoc] == 3:\n",
    "            bestLoc = (bestLoc[0]-1, bestLoc[1]-1)\n",
    "            ali1 = ali1 + str(seq1[bestLoc[1]])\n",
    "            ali2 = ali2 + str(seq2[bestLoc[0]])\n",
    "\n",
    "    return (len(ali1))\n"
   ]
  },
  {
   "cell_type": "code",
   "execution_count": 3,
   "metadata": {
    "collapsed": false,
    "scrolled": true
   },
   "outputs": [
    {
     "name": "stdout",
     "output_type": "stream",
     "text": [
      "Nuceotide freq: A:  50110  T:  50125  C:  50050  G:  49715\n",
      "200\n"
     ]
    }
   ],
   "source": [
    "#now let's make a nice random DNA generator\n",
    "#imports\n",
    "\n",
    "import random\n",
    "\n",
    "\n",
    "\n",
    "#inputs\n",
    "\n",
    "numberSeq = 200\n",
    "sizeSeq = 1000\n",
    "\n",
    "\n",
    "seqs = []\n",
    "\n",
    "\n",
    "seqCt = 0\n",
    "\n",
    "#nucleotide counts\n",
    "aCt=0\n",
    "tCt=0\n",
    "cCt=0\n",
    "gCt=0\n",
    "\n",
    "while seqCt < numberSeq:\n",
    "    nucCt = 0\n",
    "    currentSeq = \"\"\n",
    "    while nucCt < sizeSeq:\n",
    "        r = random.random()\n",
    "        if r<(1/4):\n",
    "            currentSeq = currentSeq + \"A\"\n",
    "            aCt+=1\n",
    "        elif r <(1/2):\n",
    "            currentSeq = currentSeq + \"T\"\n",
    "            tCt+=1\n",
    "        elif r <(3/4):\n",
    "            currentSeq = currentSeq + \"C\"\n",
    "            cCt+=1\n",
    "        else:\n",
    "            currentSeq = currentSeq + \"G\"\n",
    "            gCt+=1\n",
    "        nucCt += 1\n",
    "        \n",
    "        \n",
    "    seqs.append(currentSeq)\n",
    "    seqCt+= 1\n",
    "    \n",
    "print (\"Nuceotide freq: A: \", aCt, \" T: \",tCt, \" C: \", cCt, \" G: \", gCt)\n",
    "\n",
    "print(len(seqs))"
   ]
  },
  {
   "cell_type": "code",
   "execution_count": 4,
   "metadata": {
    "collapsed": false,
    "scrolled": false
   },
   "outputs": [
    {
     "name": "stdout",
     "output_type": "stream",
     "text": [
      "0\n",
      "1\n",
      "2\n",
      "3\n",
      "4\n",
      "5\n",
      "6\n",
      "7\n",
      "8\n",
      "9\n",
      "10\n",
      "11\n",
      "12\n",
      "13\n",
      "14\n",
      "15\n",
      "16\n",
      "17\n",
      "18\n",
      "19\n",
      "20\n",
      "21\n",
      "22\n",
      "23\n",
      "24\n",
      "25\n",
      "26\n",
      "27\n",
      "28\n",
      "29\n",
      "30\n",
      "31\n",
      "32\n",
      "33\n",
      "34\n",
      "35\n",
      "36\n",
      "37\n",
      "38\n",
      "39\n",
      "40\n",
      "41\n",
      "42\n",
      "43\n",
      "44\n",
      "45\n",
      "46\n",
      "47\n",
      "48\n",
      "49\n",
      "50\n",
      "51\n",
      "52\n",
      "53\n",
      "54\n",
      "55\n",
      "56\n",
      "57\n",
      "58\n",
      "59\n",
      "60\n",
      "61\n",
      "62\n",
      "63\n",
      "64\n",
      "65\n",
      "66\n",
      "67\n",
      "68\n",
      "69\n",
      "70\n",
      "71\n",
      "72\n",
      "73\n",
      "74\n",
      "75\n",
      "76\n",
      "77\n",
      "78\n",
      "79\n",
      "80\n",
      "81\n",
      "82\n",
      "83\n",
      "84\n",
      "85\n",
      "86\n",
      "87\n",
      "88\n",
      "89\n",
      "90\n",
      "91\n",
      "92\n",
      "93\n",
      "94\n",
      "95\n",
      "96\n",
      "97\n",
      "98\n",
      "99\n"
     ]
    }
   ],
   "source": [
    "#now let's write a program to run our new method 500 times, \n",
    "#using a pair of random DNA from our reandomly generated set'\n",
    "\n",
    "\n",
    "#first loop through our set\n",
    "\n",
    "randDNAcount = 0\n",
    "p1 = []\n",
    "p2 = []\n",
    "p3 = []\n",
    "p4 = [] \n",
    "while randDNAcount < (len(seqs)/2):\n",
    "    p1.append(getLocAL(seqs[randDNAcount], seqs[len(seqs)-1-randDNAcount], 1, -20, -20))\n",
    "    p2.append(getLocAL(seqs[randDNAcount], seqs[len(seqs)-1-randDNAcount], 1, -10, -10))\n",
    "    p3.append(getLocAL(seqs[randDNAcount], seqs[len(seqs)-1-randDNAcount], 1, -.5, -.5))\n",
    "    p4.append(getLocAL(seqs[randDNAcount], seqs[len(seqs)-1-randDNAcount], 1, -.33, -.33))\n",
    "    print(randDNAcount)\n",
    "    randDNAcount+=1\n",
    "    \n",
    "    "
   ]
  },
  {
   "cell_type": "code",
   "execution_count": 33,
   "metadata": {
    "collapsed": false,
    "scrolled": true
   },
   "outputs": [
    {
     "name": "stdout",
     "output_type": "stream",
     "text": [
      "p1:  [1355, 1350, 1347, 1360, 1359, 1348, 1359, 1346, 1355, 1353, 1353, 1348, 1339, 1352, 1350, 1358, 1356, 1352, 1355, 1358, 1355, 1346, 1349, 1352, 1355, 1351, 1353, 1358, 1352, 1349, 1345, 1350, 1353, 1360, 1342, 1352, 1353, 1352, 1353, 1352, 1346, 1350, 1351, 1354, 1344, 1345, 1344, 1350, 1348, 1362, 1353, 1345, 1342, 1350, 1354, 1352, 1346, 1343, 1349, 1352, 1350, 1351, 1353, 1346, 1348, 1359, 1359, 1354, 1358, 1352, 1350, 1353, 1348, 1353, 1358, 1350, 1355, 1353, 1347, 1357, 1346, 1352, 1351, 1343, 1352, 1347, 1355, 1361, 1342, 1346, 1358, 1347, 1351, 1340, 1357, 1351, 1349, 1351, 1352, 1353, 1344, 1352, 1346, 1355, 1345, 1354, 1352, 1354, 1361, 1354, 1352, 1356, 1351, 1365, 1344, 1352, 1357, 1350, 1350, 1352, 1348, 1351, 1354, 1347, 1355, 1356, 1350, 1354, 1358, 1355, 1350, 1346, 1350, 1347, 1348, 1343, 1346, 1358, 1351, 1355, 1352, 1348, 1352, 1360, 1356, 1355, 1362, 1353, 1348, 1350, 1355, 1353, 1359, 1353, 1352, 1344, 1349, 1351, 1356, 1351, 1344, 1354, 1342, 1354, 1351, 1349, 1353, 1354, 1352, 1351, 1352, 1353, 1347, 1351, 1352, 1358, 1345, 1354, 1357, 1359, 1349, 1357, 1361, 1356, 1347, 1346, 1349, 1355, 1352, 1343, 1344, 1350, 1343, 1351, 1358, 1351, 1358, 1347, 1350, 1349, 1350, 1355, 1344, 1346, 1357, 1344, 1347, 1358, 1356, 1354, 1357, 1346, 1356, 1349, 1352, 1351, 1352, 1353, 1356, 1356, 1348, 1349, 1352, 1351, 1356, 1352, 1363, 1350, 1347, 1344, 1347, 1346, 1344, 1353, 1353, 1353, 1352, 1351, 1347, 1352, 1345, 1350, 1348, 1346, 1353, 1350, 1348, 1343, 1359, 1352, 1342, 1366, 1356, 1353, 1350, 1357, 1358, 1346, 1349, 1353, 1354, 1357, 1358, 1351, 1350, 1348, 1345, 1348, 1351, 1352, 1349, 1346, 1354, 1349, 1348, 1353, 1359, 1343, 1354, 1350, 1348, 1356, 1344, 1350, 1350, 1345, 1348, 1347, 1348, 1353, 1353, 1355, 1353, 1357, 1348, 1344, 1353, 1349, 1361, 1350, 1348, 1355, 1349, 1353, 1343, 1351, 1344, 1348, 1346, 1361, 1356, 1341, 1346, 1348, 1344, 1350, 1343, 1350, 1338, 1357, 1356, 1343, 1341, 1355, 1354, 1346, 1344, 1352, 1354, 1348, 1342, 1355, 1350, 1353, 1355, 1348, 1351, 1353, 1355, 1352, 1352, 1348, 1341, 1360, 1352, 1343, 1339, 1347, 1344, 1347, 1354, 1347, 1354, 1355, 1349, 1345, 1348, 1353, 1348, 1353, 1345, 1356, 1355, 1353, 1351, 1346, 1350, 1363, 1360, 1355, 1347, 1344, 1348, 1348, 1356, 1347, 1358, 1356, 1351, 1356, 1360, 1358, 1349, 1362, 1355, 1341, 1346, 1349, 1336, 1347, 1344, 1351, 1346, 1359, 1351, 1356, 1352, 1359, 1342, 1351, 1359, 1347, 1359, 1347, 1360, 1352, 1354, 1353, 1359, 1354, 1354, 1345, 1359, 1348, 1352, 1353, 1349, 1352, 1338, 1354, 1357, 1361, 1357, 1351, 1352, 1359, 1349, 1355, 1348, 1342, 1352, 1355, 1354, 1351, 1356, 1350, 1357, 1355, 1347, 1347, 1351, 1359, 1356, 1356, 1343, 1344, 1346, 1359, 1353, 1353, 1351, 1347, 1349, 1360, 1351, 1362, 1356, 1354, 1340, 1348, 1363, 1348, 1357, 1359, 1344, 1354, 1357, 1346, 1346, 1348, 1348, 1354, 1350, 1349, 1351, 1351, 1346, 1345, 1359, 1362, 1350, 1353, 1353, 1349, 1360, 1360, 1350, 1351, 1350, 1355, 1341, 1353, 1356, 1354, 1346, 1347, 1337, 1344, 1361, 1353]\n",
      "p2:  [9, 10, 10, 10, 8, 9, 10, 10, 8, 12, 11, 11, 9, 10, 10, 9, 10, 11, 11, 10, 9, 11, 10, 9, 9, 11, 9, 9, 9, 10, 10, 9, 9, 10, 10, 11, 11, 10, 9, 9, 13, 10, 9, 9, 9, 10, 9, 9, 10, 10, 11, 10, 9, 10, 11, 10, 11, 10, 9, 11, 11, 12, 9, 11, 8, 10, 9, 9, 11, 11, 10, 10, 10, 9, 10, 9, 8, 9, 9, 8, 12, 10, 9, 10, 10, 8, 10, 9, 9, 8, 8, 12, 8, 10, 9, 8, 10, 10, 10, 10, 10, 9, 9, 12, 9, 9, 11, 9, 10, 8, 9, 9, 9, 9, 10, 8, 9, 9, 9, 10, 9, 9, 10, 9, 9, 10, 9, 10, 9, 9, 9, 11, 9, 11, 9, 9, 9, 8, 9, 9, 9, 9, 10, 9, 9, 9, 9, 10, 11, 9, 12, 9, 10, 10, 11, 9, 10, 9, 10, 9, 11, 11, 10, 10, 11, 10, 9, 9, 9, 11, 9, 10, 10, 10, 11, 10, 9, 11, 9, 9, 9, 10, 10, 9, 9, 11, 9, 9, 11, 10, 9, 8, 9, 10, 11, 9, 9, 9, 10, 9, 10, 10, 9, 9, 12, 10, 9, 9, 10, 9, 11, 9, 9, 10, 9, 10, 10, 10, 9, 9, 10, 8, 9, 10, 10, 10, 10, 10, 11, 10, 9, 9, 11, 9, 10, 9, 9, 9, 13, 9, 11, 9, 9, 9, 8, 9, 10, 9, 9, 9, 9, 12, 10, 8, 11, 10, 11, 10, 10, 10, 8, 11, 11, 10, 10, 9, 9, 11, 9, 10, 10, 8, 9, 9, 9, 11, 11, 10, 9, 10, 9, 10, 9, 11, 11, 10, 9, 9, 9, 9, 9, 11, 9, 11, 10, 8, 10, 9, 10, 12, 10, 10, 10, 10, 10, 9, 9, 9, 10, 10, 9, 9, 9, 9, 10, 11, 9, 10, 11, 9, 8, 9, 9, 10, 9, 10, 9, 9, 10, 9, 8, 9, 10, 8, 9, 9, 9, 9, 9, 10, 11, 11, 10, 9, 9, 10, 12, 9, 11, 10, 10, 8, 9, 11, 10, 11, 8, 9, 10, 9, 9, 9, 9, 12, 9, 8, 9, 10, 9, 9, 10, 10, 10, 11, 9, 10, 12, 9, 10, 9, 9, 9, 10, 9, 10, 10, 10, 10, 10, 10, 9, 9, 10, 9, 10, 8, 8, 9, 9, 10, 10, 9, 12, 9, 11, 11, 9, 10, 10, 9, 10, 9, 10, 9, 9, 9, 9, 10, 9, 9, 9, 9, 9, 10, 10, 10, 9, 10, 9, 9, 10, 8, 11, 9, 9, 11, 8, 9, 11, 9, 9, 9, 9, 9, 10, 9, 10, 9, 9, 10, 9, 10, 9, 10, 10, 9, 12, 11, 11, 10, 8, 10, 9, 11, 10, 9, 8, 10, 8, 9, 9, 9, 10, 9, 10, 10, 9, 10, 11, 10, 10, 10, 8, 10, 8, 8, 10, 9, 10, 9, 9, 10, 9, 10, 11, 9, 9, 11, 10, 9]\n"
     ]
    }
   ],
   "source": []
  },
  {
   "cell_type": "code",
   "execution_count": 9,
   "metadata": {
    "collapsed": false
   },
   "outputs": [
    {
     "data": {
      "image/png": "[encoded data removed]",
      "text/plain": [
       "<matplotlib.figure.Figure at 0x111645898>"
      ]
     },
     "metadata": {},
     "output_type": "display_data"
    }
   ],
   "source": [
    "import numpy as np\n",
    "import pandas as pd\n",
    "import matplotlib.pyplot as plt\n",
    "%matplotlib inline\n",
    "plt.xlabel('length')\n",
    "plt.ylabel('frequency')\n",
    "plt.grid(True)\n",
    "\n",
    "\n",
    "n, bins, patches = plt.hist(p1,25, normed=1, facecolor='green', alpha=0.75)\n",
    "\n"
   ]
  },
  {
   "cell_type": "code",
   "execution_count": 11,
   "metadata": {
    "collapsed": false
   },
   "outputs": [
    {
     "data": {
      "image/png": "[encoded data removed]",
      "text/plain": [
       "<matplotlib.figure.Figure at 0x1113c72b0>"
      ]
     },
     "metadata": {},
     "output_type": "display_data"
    }
   ],
   "source": [
    "plt.xlabel('length')\n",
    "plt.ylabel('frequency')\n",
    "plt.grid(True)\n",
    "n, bins, patches = plt.hist(p2,25, normed=1, facecolor='green', alpha=0.75)\n"
   ]
  },
  {
   "cell_type": "code",
   "execution_count": 7,
   "metadata": {
    "collapsed": false
   },
   "outputs": [
    {
     "data": {
      "image/png": "[encoded data removed]",
      "text/plain": [
       "<matplotlib.figure.Figure at 0x10877a518>"
      ]
     },
     "metadata": {},
     "output_type": "display_data"
    }
   ],
   "source": [
    "n, bins, patches = plt.hist(p3,25, normed=1, facecolor='green', alpha=0.75)"
   ]
  },
  {
   "cell_type": "code",
   "execution_count": 8,
   "metadata": {
    "collapsed": false
   },
   "outputs": [
    {
     "data": {
      "image/png": "[encoded data removed]",
      "text/plain": [
       "<matplotlib.figure.Figure at 0x1117b94e0>"
      ]
     },
     "metadata": {},
     "output_type": "display_data"
    }
   ],
   "source": [
    "n, bins, patches = plt.hist(p4,25, normed=1, facecolor='green', alpha=0.75)"
   ]
  },
  {
   "cell_type": "code",
   "execution_count": 12,
   "metadata": {
    "collapsed": false
   },
   "outputs": [
    {
     "name": "stdout",
     "output_type": "stream",
     "text": [
      "0\n",
      "1\n",
      "2\n",
      "3\n",
      "4\n",
      "5\n",
      "6\n",
      "7\n",
      "8\n",
      "9\n",
      "10\n",
      "11\n",
      "12\n",
      "13\n",
      "14\n",
      "15\n",
      "16\n",
      "17\n",
      "18\n",
      "19\n",
      "20\n",
      "21\n",
      "22\n",
      "23\n",
      "24\n",
      "25\n",
      "26\n",
      "27\n",
      "28\n",
      "29\n",
      "30\n",
      "31\n",
      "32\n",
      "33\n",
      "34\n",
      "35\n",
      "36\n",
      "37\n",
      "38\n",
      "39\n",
      "40\n",
      "41\n",
      "42\n",
      "43\n",
      "44\n",
      "45\n",
      "46\n",
      "47\n",
      "48\n",
      "49\n",
      "50\n",
      "51\n",
      "52\n",
      "53\n",
      "54\n",
      "55\n",
      "56\n",
      "57\n",
      "58\n",
      "59\n",
      "60\n",
      "61\n",
      "62\n",
      "63\n",
      "64\n",
      "65\n",
      "66\n",
      "67\n",
      "68\n",
      "69\n",
      "70\n",
      "71\n",
      "72\n",
      "73\n",
      "74\n",
      "75\n",
      "76\n",
      "77\n",
      "78\n",
      "79\n",
      "80\n",
      "81\n",
      "82\n",
      "83\n",
      "84\n",
      "85\n",
      "86\n",
      "87\n",
      "88\n",
      "89\n",
      "90\n",
      "91\n",
      "92\n",
      "93\n",
      "94\n",
      "95\n",
      "96\n",
      "97\n",
      "98\n",
      "99\n"
     ]
    }
   ],
   "source": [
    "randDNAcount = 0\n",
    "p5 = []\n",
    "p6 = []\n",
    "\n",
    "while randDNAcount < (len(seqs)/2):\n",
    "    p5.append(getLocAL(seqs[randDNAcount], seqs[len(seqs)-1-randDNAcount], 1, -1, -1))\n",
    "    p6.append(getLocAL(seqs[randDNAcount], seqs[len(seqs)-1-randDNAcount], 1, -2, -2))\n",
    "    print(randDNAcount)\n",
    "    randDNAcount+=1"
   ]
  },
  {
   "cell_type": "code",
   "execution_count": 15,
   "metadata": {
    "collapsed": false,
    "scrolled": true
   },
   "outputs": [
    {
     "data": {
      "image/png": "[encoded data removed]",
      "text/plain": [
       "<matplotlib.figure.Figure at 0x111b0b0f0>"
      ]
     },
     "metadata": {},
     "output_type": "display_data"
    }
   ],
   "source": [
    "n, bins, patches = plt.hist(p5,25, normed=1, facecolor='green', alpha=0.75)\n"
   ]
  },
  {
   "cell_type": "code",
   "execution_count": 16,
   "metadata": {
    "collapsed": false
   },
   "outputs": [
    {
     "data": {
      "image/png": "[encoded data removed]",
      "text/plain": [
       "<matplotlib.figure.Figure at 0x1119b6cf8>"
      ]
     },
     "metadata": {},
     "output_type": "display_data"
    }
   ],
   "source": [
    "n, bins, patches = plt.hist(p6,25, normed=1, facecolor='green', alpha=0.75)"
   ]
  },
  {
   "cell_type": "code",
   "execution_count": 17,
   "metadata": {
    "collapsed": false
   },
   "outputs": [
    {
     "name": "stdout",
     "output_type": "stream",
     "text": [
      "[9.5800000000000001, 9.5800000000000001, 1350.8699999999999, 1350.8699999999999, 1078.0699999999999, 17.609999999999999]\n"
     ]
    }
   ],
   "source": [
    "means = [numpy.mean(p1),numpy.mean(p2),numpy.mean(p3),numpy.mean(p4),numpy.mean(p5),numpy.mean(p6)]\n",
    "\n",
    "print(means)"
   ]
  },
  {
   "cell_type": "code",
   "execution_count": 21,
   "metadata": {
    "collapsed": false
   },
   "outputs": [
    {
     "data": {
      "text/plain": [
       "[<matplotlib.lines.Line2D at 0x1114338d0>]"
      ]
     },
     "execution_count": 21,
     "metadata": {},
     "output_type": "execute_result"
    },
    {
     "data": {
      "image/png": "[encoded data removed]",
      "text/plain": [
       "<matplotlib.figure.Figure at 0x112276048>"
      ]
     },
     "metadata": {},
     "output_type": "display_data"
    }
   ],
   "source": [
    "plt.plot([-20, -10, -.5, -.33, -1,-2], means)\n"
   ]
  },
  {
   "cell_type": "code",
   "execution_count": 22,
   "metadata": {
    "collapsed": false
   },
   "outputs": [
    {
     "data": {
      "text/plain": [
       "[<matplotlib.lines.Line2D at 0x10e0a7f98>]"
      ]
     },
     "execution_count": 22,
     "metadata": {},
     "output_type": "execute_result"
    },
    {
     "data": {
      "image/png": "[encoded data removed]",
      "text/plain": [
       "<matplotlib.figure.Figure at 0x1117b9f28>"
      ]
     },
     "metadata": {},
     "output_type": "display_data"
    }
   ],
   "source": [
    "\n",
    "means = [numpy.mean(p1),numpy.mean(p2),numpy.mean(p6),numpy.mean(p5),numpy.mean(p3),numpy.mean(p4)]\n",
    "plt.plot([-20, -10, -2, -1, -.5,-.33], means)\n"
   ]
  },
  {
   "cell_type": "code",
   "execution_count": null,
   "metadata": {
    "collapsed": true
   },
   "outputs": [],
   "source": []
  }
 ],
 "metadata": {
  "kernelspec": {
   "display_name": "Python 3",
   "language": "python",
   "name": "python3"
  },
  "language_info": {
   "codemirror_mode": {
    "name": "ipython",
    "version": 3
   },
   "file_extension": ".py",
   "mimetype": "text/x-python",
   "name": "python",
   "nbconvert_exporter": "python",
   "pygments_lexer": "ipython3",
   "version": "3.6.0"
  }
 },
 "nbformat": 4,
 "nbformat_minor": 2
}
